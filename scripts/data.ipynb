{
 "cells": [
  {
   "cell_type": "code",
   "execution_count": 6,
   "id": "8985f050",
   "metadata": {},
   "outputs": [
    {
     "name": "stdout",
     "output_type": "stream",
     "text": [
      "Flow Byts/s        0.00244\n",
      "Dst Port           0.00000\n",
      "Timestamp          0.00000\n",
      "Protocol           0.00000\n",
      "Tot Fwd Pkts       0.00000\n",
      "Tot Bwd Pkts       0.00000\n",
      "TotLen Fwd Pkts    0.00000\n",
      "Flow Duration      0.00000\n",
      "Fwd Pkt Len Max    0.00000\n",
      "Fwd Pkt Len Min    0.00000\n",
      "dtype: float64\n"
     ]
    }
   ],
   "source": [
    "import pandas as pd\n",
    "df = pd.read_parquet(\"D:\\Canada\\Subjects\\Semester -2\\AIDI-2005-02 CAPSTONE TERM ll\\Bot_detector\\data\\processed\\Friday-02-03-2018_TrafficForML_CICFlowMeter.parquet\")\n",
    "print(df.isna().mean().sort_values(ascending=False).head(10))\n"
   ]
  },
  {
   "cell_type": "code",
   "execution_count": 2,
   "id": "d574d348",
   "metadata": {},
   "outputs": [
    {
     "name": "stdout",
     "output_type": "stream",
     "text": [
      "Converted D:/Canada/Subjects/Semester -2/AIDI-2005-02 CAPSTONE TERM ll/Bot_detector/data/raw\\Friday-02-03-2018_TrafficForML_CICFlowMeter.csv to D:/Canada/Subjects/Semester -2/AIDI-2005-02 CAPSTONE TERM ll/Bot_detector/data/processed/Friday-02-03-2018_TrafficForML_CICFlowMeter.parquet -- Labels:\n",
      "Label\n",
      "Benign    762384\n",
      "Bot       286191\n",
      "Name: count, dtype: int64\n",
      "\n"
     ]
    },
    {
     "name": "stderr",
     "output_type": "stream",
     "text": [
      "C:\\Users\\aroma\\AppData\\Local\\Temp\\ipykernel_31324\\1497277540.py:11: DtypeWarning: Columns (0,1,3,4,5,6,7,8,9,10,11,12,13,14,15,16,17,18,19,20,21,22,23,24,25,26,27,28,29,30,31,32,33,34,35,36,37,38,39,40,41,42,43,44,45,46,47,48,49,50,51,52,53,54,55,56,57,58,59,60,61,62,63,64,65,66,67,68,69,70,71,72,73,74,75,76,77,78) have mixed types. Specify dtype option on import or set low_memory=False.\n",
      "  df = pd.read_csv(csv_file)\n"
     ]
    },
    {
     "name": "stdout",
     "output_type": "stream",
     "text": [
      "Converted D:/Canada/Subjects/Semester -2/AIDI-2005-02 CAPSTONE TERM ll/Bot_detector/data/raw\\Friday-16-02-2018_TrafficForML_CICFlowMeter.csv to D:/Canada/Subjects/Semester -2/AIDI-2005-02 CAPSTONE TERM ll/Bot_detector/data/processed/Friday-16-02-2018_TrafficForML_CICFlowMeter.parquet -- Labels:\n",
      "Label\n",
      "DoS attacks-Hulk            461912\n",
      "Benign                      446772\n",
      "DoS attacks-SlowHTTPTest    139890\n",
      "Label                            1\n",
      "Name: count, dtype: int64\n",
      "\n",
      "Converted D:/Canada/Subjects/Semester -2/AIDI-2005-02 CAPSTONE TERM ll/Bot_detector/data/raw\\Friday-23-02-2018_TrafficForML_CICFlowMeter.csv to D:/Canada/Subjects/Semester -2/AIDI-2005-02 CAPSTONE TERM ll/Bot_detector/data/processed/Friday-23-02-2018_TrafficForML_CICFlowMeter.parquet -- Labels:\n",
      "Label\n",
      "Benign              1048009\n",
      "Brute Force -Web        362\n",
      "Brute Force -XSS        151\n",
      "SQL Injection            53\n",
      "Name: count, dtype: int64\n",
      "\n",
      "Converted D:/Canada/Subjects/Semester -2/AIDI-2005-02 CAPSTONE TERM ll/Bot_detector/data/raw\\Thuesday-20-02-2018_TrafficForML_CICFlowMeter.csv to D:/Canada/Subjects/Semester -2/AIDI-2005-02 CAPSTONE TERM ll/Bot_detector/data/processed/Thuesday-20-02-2018_TrafficForML_CICFlowMeter.parquet -- Labels:\n",
      "Label\n",
      "Benign                    7372557\n",
      "DDoS attacks-LOIC-HTTP     576191\n",
      "Name: count, dtype: int64\n",
      "\n"
     ]
    },
    {
     "name": "stderr",
     "output_type": "stream",
     "text": [
      "C:\\Users\\aroma\\AppData\\Local\\Temp\\ipykernel_31324\\1497277540.py:11: DtypeWarning: Columns (0,1,3,4,5,6,7,8,9,10,11,12,13,14,15,16,17,18,19,20,21,22,23,24,25,26,27,28,29,30,31,32,33,34,35,36,37,38,39,40,41,42,43,44,45,46,47,48,49,50,51,52,53,54,55,56,57,58,59,60,61,62,63,64,65,66,67,68,69,70,71,72,73,74,75,76,77,78) have mixed types. Specify dtype option on import or set low_memory=False.\n",
      "  df = pd.read_csv(csv_file)\n"
     ]
    },
    {
     "name": "stdout",
     "output_type": "stream",
     "text": [
      "Converted D:/Canada/Subjects/Semester -2/AIDI-2005-02 CAPSTONE TERM ll/Bot_detector/data/raw\\Thursday-01-03-2018_TrafficForML_CICFlowMeter.csv to D:/Canada/Subjects/Semester -2/AIDI-2005-02 CAPSTONE TERM ll/Bot_detector/data/processed/Thursday-01-03-2018_TrafficForML_CICFlowMeter.parquet -- Labels:\n",
      "Label\n",
      "Benign           238037\n",
      "Infilteration     93063\n",
      "Label                25\n",
      "Name: count, dtype: int64\n",
      "\n",
      "Converted D:/Canada/Subjects/Semester -2/AIDI-2005-02 CAPSTONE TERM ll/Bot_detector/data/raw\\Thursday-15-02-2018_TrafficForML_CICFlowMeter.csv to D:/Canada/Subjects/Semester -2/AIDI-2005-02 CAPSTONE TERM ll/Bot_detector/data/processed/Thursday-15-02-2018_TrafficForML_CICFlowMeter.parquet -- Labels:\n",
      "Label\n",
      "Benign                   996077\n",
      "DoS attacks-GoldenEye     41508\n",
      "DoS attacks-Slowloris     10990\n",
      "Name: count, dtype: int64\n",
      "\n",
      "Converted D:/Canada/Subjects/Semester -2/AIDI-2005-02 CAPSTONE TERM ll/Bot_detector/data/raw\\Thursday-22-02-2018_TrafficForML_CICFlowMeter.csv to D:/Canada/Subjects/Semester -2/AIDI-2005-02 CAPSTONE TERM ll/Bot_detector/data/processed/Thursday-22-02-2018_TrafficForML_CICFlowMeter.parquet -- Labels:\n",
      "Label\n",
      "Benign              1048213\n",
      "Brute Force -Web        249\n",
      "Brute Force -XSS         79\n",
      "SQL Injection            34\n",
      "Name: count, dtype: int64\n",
      "\n",
      "Converted D:/Canada/Subjects/Semester -2/AIDI-2005-02 CAPSTONE TERM ll/Bot_detector/data/raw\\Wednesday-14-02-2018_TrafficForML_CICFlowMeter.csv to D:/Canada/Subjects/Semester -2/AIDI-2005-02 CAPSTONE TERM ll/Bot_detector/data/processed/Wednesday-14-02-2018_TrafficForML_CICFlowMeter.parquet -- Labels:\n",
      "Label\n",
      "Benign            667626\n",
      "FTP-BruteForce    193360\n",
      "SSH-Bruteforce    187589\n",
      "Name: count, dtype: int64\n",
      "\n",
      "Converted D:/Canada/Subjects/Semester -2/AIDI-2005-02 CAPSTONE TERM ll/Bot_detector/data/raw\\Wednesday-21-02-2018_TrafficForML_CICFlowMeter.csv to D:/Canada/Subjects/Semester -2/AIDI-2005-02 CAPSTONE TERM ll/Bot_detector/data/processed/Wednesday-21-02-2018_TrafficForML_CICFlowMeter.parquet -- Labels:\n",
      "Label\n",
      "DDOS attack-HOIC        686012\n",
      "Benign                  360833\n",
      "DDOS attack-LOIC-UDP      1730\n",
      "Name: count, dtype: int64\n",
      "\n"
     ]
    },
    {
     "name": "stderr",
     "output_type": "stream",
     "text": [
      "C:\\Users\\aroma\\AppData\\Local\\Temp\\ipykernel_31324\\1497277540.py:11: DtypeWarning: Columns (0,1,3,4,5,6,7,8,9,10,11,12,13,14,15,16,17,18,19,20,21,22,23,24,25,26,27,28,29,30,31,32,33,34,35,36,37,38,39,40,41,42,43,44,45,46,47,48,49,50,51,52,53,54,55,56,57,58,59,60,61,62,63,64,65,66,67,68,69,70,71,72,73,74,75,76,77,78) have mixed types. Specify dtype option on import or set low_memory=False.\n",
      "  df = pd.read_csv(csv_file)\n"
     ]
    },
    {
     "name": "stdout",
     "output_type": "stream",
     "text": [
      "Converted D:/Canada/Subjects/Semester -2/AIDI-2005-02 CAPSTONE TERM ll/Bot_detector/data/raw\\Wednesday-28-02-2018_TrafficForML_CICFlowMeter.csv to D:/Canada/Subjects/Semester -2/AIDI-2005-02 CAPSTONE TERM ll/Bot_detector/data/processed/Wednesday-28-02-2018_TrafficForML_CICFlowMeter.parquet -- Labels:\n",
      "Label\n",
      "Benign           544200\n",
      "Infilteration     68871\n",
      "Label                33\n",
      "Name: count, dtype: int64\n",
      "\n"
     ]
    }
   ],
   "source": [
    "import pandas as pd\n",
    "import glob\n",
    "import os\n",
    "\n",
    "csv_dir = \"D:/Canada/Subjects/Semester -2/AIDI-2005-02 CAPSTONE TERM ll/Bot_detector/data/raw/\"\n",
    "parquet_dir = \"D:/Canada/Subjects/Semester -2/AIDI-2005-02 CAPSTONE TERM ll/Bot_detector/data/processed/\"\n",
    "\n",
    "os.makedirs(parquet_dir, exist_ok=True)\n",
    "\n",
    "for csv_file in glob.glob(os.path.join(csv_dir, \"*.csv\")):\n",
    "    df = pd.read_csv(csv_file)\n",
    "\n",
    "    # Try to convert *every* column except \"Label\" (and maybe \"Timestamp\") to numeric\n",
    "    for col in df.columns:\n",
    "        if col not in ['Label', 'Timestamp', 'Flow ID', 'Src IP', 'Dst IP']:\n",
    "            df[col] = pd.to_numeric(df[col], errors='coerce')\n",
    "    \n",
    "    # Optional: Downcast floats/ints for smaller file size\n",
    "    # df = df.apply(pd.to_numeric, errors='ignore', downcast='float')\n",
    "\n",
    "    # Save to Parquet\n",
    "    base = os.path.basename(csv_file).replace('.csv', '.parquet')\n",
    "    out_path = os.path.join(parquet_dir, base)\n",
    "    df.to_parquet(out_path)\n",
    "    print(f\"Converted {csv_file} to {out_path} -- Labels:\\n{df['Label'].value_counts()}\\n\")\n"
   ]
  },
  {
   "cell_type": "code",
   "execution_count": null,
   "id": "b485e80e",
   "metadata": {},
   "outputs": [],
   "source": []
  },
  {
   "cell_type": "code",
   "execution_count": null,
   "id": "a09f9267",
   "metadata": {},
   "outputs": [],
   "source": []
  }
 ],
 "metadata": {
  "kernelspec": {
   "display_name": ".venv",
   "language": "python",
   "name": "python3"
  },
  "language_info": {
   "codemirror_mode": {
    "name": "ipython",
    "version": 3
   },
   "file_extension": ".py",
   "mimetype": "text/x-python",
   "name": "python",
   "nbconvert_exporter": "python",
   "pygments_lexer": "ipython3",
   "version": "3.11.9"
  }
 },
 "nbformat": 4,
 "nbformat_minor": 5
}
